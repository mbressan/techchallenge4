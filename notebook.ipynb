{
  "cells": [
    {
      "cell_type": "markdown",
      "metadata": {
        "id": "hdZUAs1qVwxc"
      },
      "source": [
        "## Imports"
      ]
    },
    {
      "cell_type": "code",
      "execution_count": 1,
      "metadata": {
        "id": "cV1siFaGVwxe"
      },
      "outputs": [],
      "source": [
        "import joblib\n",
        "import matplotlib.pyplot as plt\n",
        "import numpy as np\n",
        "import yfinance as yf\n",
        "import os   \n",
        "from sklearn.preprocessing import MinMaxScaler\n",
        "from sklearn.metrics import mean_absolute_error, root_mean_squared_error, mean_absolute_percentage_error\n",
        "from sklearn.model_selection import train_test_split\n",
        "from tensorflow.keras.models import Sequential\n",
        "from tensorflow.keras.layers import LSTM, Dropout, Dense\n",
        "from tensorflow.keras.callbacks import EarlyStopping\n"
      ]
    },
    {
      "cell_type": "markdown",
      "metadata": {
        "id": "6xVHQWZ0Vwxf"
      },
      "source": [
        "\n",
        "## Coleta de dados - Stock KO - Coca-cola Company"
      ]
    },
    {
      "cell_type": "code",
      "execution_count": null,
      "metadata": {
        "colab": {
          "base_uri": "https://localhost:8080/",
          "height": 304
        },
        "id": "0p-hEnGXVwxf",
        "outputId": "23cc1473-2d8b-4e8e-e62e-c39f3fb4b106"
      },
      "outputs": [],
      "source": [
        "symbol = 'KO'\n",
        "start_date = '2010-01-01'\n",
        "end_date = '2025-04-25'\n",
        "\n",
        "df = yf.download(symbol, start=start_date, end=end_date)\n",
        "df = df[['Close']]\n",
        "df.head()"
      ]
    },
    {
      "cell_type": "markdown",
      "metadata": {
        "id": "RN3bk16BVwxg"
      },
      "source": [
        "## Pré-processamento"
      ]
    },
    {
      "cell_type": "code",
      "execution_count": null,
      "metadata": {
        "colab": {
          "base_uri": "https://localhost:8080/"
        },
        "id": "iJaKfWINVwxh",
        "outputId": "4581e273-da7e-4262-82f2-002ac0c5456f"
      },
      "outputs": [],
      "source": [
        "scaler = MinMaxScaler(feature_range=(0, 1))\n",
        "df_scaled = scaler.fit_transform(df)\n",
        "\n",
        "# Função das janelas temporais\n",
        "def create_sequences(data, time_steps=30):\n",
        "    X, y = [], []\n",
        "    for i in range(len(data) - time_steps):\n",
        "        X.append(data[i:i+time_steps, 0])\n",
        "        y.append(data[i+time_steps, 0])\n",
        "    return np.array(X), np.array(y)\n",
        "\n",
        "X, y = create_sequences(df_scaled)\n",
        "X = X.reshape((X.shape[0], X.shape[1], 1))\n",
        "\n",
        "# Divisão dos dados de treino e teste\n",
        "X_train, X_test, y_train, y_test = train_test_split(X, y, test_size = 0.2, random_state = 42)\n",
        "print(X_train.shape)\n",
        "print(y_train.shape)\n",
        "print(X_test.shape)\n",
        "print(y_test.shape)"
      ]
    },
    {
      "cell_type": "markdown",
      "metadata": {
        "id": "z3W26Y3-Vwxh"
      },
      "source": [
        "## Treinamento do modelo"
      ]
    },
    {
      "cell_type": "code",
      "execution_count": null,
      "metadata": {
        "colab": {
          "base_uri": "https://localhost:8080/"
        },
        "id": "A6PT3JwpVwxh",
        "outputId": "505ab112-9235-4cee-9df3-23ec9309a0ff"
      },
      "outputs": [],
      "source": [
        "# Estrutura do modelo\n",
        "\n",
        "model = Sequential()\n",
        "model.add(LSTM( units=100,\n",
        "                activation='relu',\n",
        "              #  return_sequences=True,\n",
        "                input_shape=(X_train.shape[1], 1)))\n",
        "model.add(Dropout(0.2))\n",
        "\n",
        "#model.add(LSTM(units=100, activation='relu'))\n",
        "#model.add(Dropout(0.2))\n",
        "model.add(Dense(units=1))\n",
        "\n",
        "model.compile(optimizer='adam', loss='mean_squared_error')\n",
        "\n",
        "# Treinamento\n",
        "early_stopping = EarlyStopping(monitor='val_loss', patience=5)\n",
        "\n",
        "model.fit(X_train,\n",
        "          y_train,\n",
        "          epochs=50,\n",
        "          batch_size=32,\n",
        "          validation_split=0.2,\n",
        "          callbacks=[early_stopping],\n",
        "          verbose=0)"
      ]
    },
    {
      "cell_type": "markdown",
      "metadata": {
        "id": "eh0dRoVHVwxi"
      },
      "source": [
        "## Resultados"
      ]
    },
    {
      "cell_type": "code",
      "execution_count": 7,
      "metadata": {
        "colab": {
          "base_uri": "https://localhost:8080/"
        },
        "id": "IPlFBwsRVwxi",
        "outputId": "01141663-8c41-46d4-b479-42f17f748456"
      },
      "outputs": [
        {
          "name": "stdout",
          "output_type": "stream",
          "text": [
            "Loss: 0.00026029490982182324\n",
            "Mean Absolute Error (MAE): 0.72\n",
            "Root Mean Squared Error (RMSE): 0.97\n",
            "Mean Absolute Percentage Error (MAPE): 1.94%\n"
          ]
        }
      ],
      "source": [
        "# Avaliação\n",
        "y_pred = model.predict(X_test, verbose=0)\n",
        "y_test_rescaled = scaler.inverse_transform(np.column_stack((np.zeros_like(y_test), y_test)))[:, 1]\n",
        "y_pred_rescaled = scaler.inverse_transform(np.column_stack((np.zeros_like(y_pred), y_pred)))[:, 1]\n",
        "\n",
        "loss = model.evaluate(X_test, y_test, verbose=0)\n",
        "mae = mean_absolute_error(y_test_rescaled, y_pred_rescaled)\n",
        "rmse = np.sqrt(root_mean_squared_error(y_test_rescaled, y_pred_rescaled))\n",
        "mape = mean_absolute_percentage_error(y_test_rescaled, y_pred_rescaled)*100\n",
        "\n",
        "print(f'Loss: {loss}')\n",
        "print(f\"Mean Absolute Error (MAE): {mae:.2f}\")\n",
        "print(f\"Root Mean Squared Error (RMSE): {rmse:.2f}\")\n",
        "print(f\"Mean Absolute Percentage Error (MAPE): {(mape):.2f}%\")"
      ]
    },
    {
      "cell_type": "code",
      "execution_count": null,
      "metadata": {
        "colab": {
          "base_uri": "https://localhost:8080/",
          "height": 585
        },
        "id": "AZl7tqHnVwxi",
        "outputId": "6da3a982-db96-487f-ae1f-590cf2106dac"
      },
      "outputs": [],
      "source": [
        "plt.figure(figsize=(25, 6))\n",
        "plt.plot(y_test_rescaled, label=\"Real\", color='black', linewidth=2)\n",
        "plt.plot(y_pred_rescaled, label=\"Previsto\", color='red', linestyle='--')\n",
        "plt.title(f'Reais vs Previstos\\nMAE: {mae:.2f}, RMSE: {rmse:.2f}')\n",
        "plt.xlabel('Índice')\n",
        "plt.ylabel('Preço de Fechamento')\n",
        "plt.legend()\n",
        "plt.grid(True)\n",
        "plt.show()"
      ]
    },
    {
      "cell_type": "markdown",
      "metadata": {
        "id": "iubnwKzKVwxj"
      },
      "source": [
        "## Serialização e armazenamento dos artefatos do modelo e do scaler"
      ]
    },
    {
      "cell_type": "code",
      "execution_count": null,
      "metadata": {
        "colab": {
          "base_uri": "https://localhost:8080/"
        },
        "id": "BficElDAVwxj",
        "outputId": "f0d77d61-a56b-4908-8918-2085db3c64e6"
      },
      "outputs": [],
      "source": [
        "os.makedirs(\"Models\", exist_ok=True)\n",
        "model.save(f\"Models/modelKO.keras\")\n",
        "joblib.dump(scaler, f'Models/scalerKO.pkl')"
      ]
    }
  ],
  "metadata": {
    "colab": {
      "provenance": []
    },
    "kernelspec": {
      "display_name": ".venv",
      "language": "python",
      "name": "python3"
    },
    "language_info": {
      "codemirror_mode": {
        "name": "ipython",
        "version": 3
      },
      "file_extension": ".py",
      "mimetype": "text/x-python",
      "name": "python",
      "nbconvert_exporter": "python",
      "pygments_lexer": "ipython3",
      "version": "3.11.9"
    }
  },
  "nbformat": 4,
  "nbformat_minor": 0
}
